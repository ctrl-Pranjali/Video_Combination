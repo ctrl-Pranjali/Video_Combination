{
  "cells": [
    {
      "cell_type": "code",
      "source": [
        "!apt-get install ffmpeg\n"
      ],
      "metadata": {
        "colab": {
          "base_uri": "https://localhost:8080/"
        },
        "id": "XxL39h6tgBW9",
        "outputId": "753de2b7-3c02-4a67-dab1-a0623dd418b0"
      },
      "execution_count": null,
      "outputs": [
        {
          "output_type": "stream",
          "name": "stdout",
          "text": [
            "Reading package lists... Done\n",
            "Building dependency tree... Done\n",
            "Reading state information... Done\n",
            "ffmpeg is already the newest version (7:4.4.2-0ubuntu0.22.04.1).\n",
            "0 upgraded, 0 newly installed, 0 to remove and 45 not upgraded.\n"
          ]
        }
      ]
    },
    {
      "cell_type": "code",
      "source": [
        "!ffprobe -v error -select_streams a:0 -show_entries stream=codec_name -of default=noprint_wrappers=1:nokey=1 /content/FINAL.mp4\n",
        "!ffmpeg -i \"/content/video1.mp4\" -i \"/content/video2.mp4\" -i \"/content/video3.mp4\" \\\n",
        "        -filter_complex \"[0:v][1:v][2:v]concat=n=3:v=1[outv]\" \\\n",
        "        -map \"[outv]\" /content/combined_video.mp4 -y\n"
      ],
      "metadata": {
        "colab": {
          "base_uri": "https://localhost:8080/"
        },
        "id": "20M0B9QegBON",
        "outputId": "6f6e416f-535e-4d7d-b28d-84740dd76b0e"
      },
      "execution_count": null,
      "outputs": [
        {
          "output_type": "stream",
          "name": "stdout",
          "text": [
            "ffmpeg version 4.4.2-0ubuntu0.22.04.1 Copyright (c) 2000-2021 the FFmpeg developers\n",
            "  built with gcc 11 (Ubuntu 11.2.0-19ubuntu1)\n",
            "  configuration: --prefix=/usr --extra-version=0ubuntu0.22.04.1 --toolchain=hardened --libdir=/usr/lib/x86_64-linux-gnu --incdir=/usr/include/x86_64-linux-gnu --arch=amd64 --enable-gpl --disable-stripping --enable-gnutls --enable-ladspa --enable-libaom --enable-libass --enable-libbluray --enable-libbs2b --enable-libcaca --enable-libcdio --enable-libcodec2 --enable-libdav1d --enable-libflite --enable-libfontconfig --enable-libfreetype --enable-libfribidi --enable-libgme --enable-libgsm --enable-libjack --enable-libmp3lame --enable-libmysofa --enable-libopenjpeg --enable-libopenmpt --enable-libopus --enable-libpulse --enable-librabbitmq --enable-librubberband --enable-libshine --enable-libsnappy --enable-libsoxr --enable-libspeex --enable-libsrt --enable-libssh --enable-libtheora --enable-libtwolame --enable-libvidstab --enable-libvorbis --enable-libvpx --enable-libwebp --enable-libx265 --enable-libxml2 --enable-libxvid --enable-libzimg --enable-libzmq --enable-libzvbi --enable-lv2 --enable-omx --enable-openal --enable-opencl --enable-opengl --enable-sdl2 --enable-pocketsphinx --enable-librsvg --enable-libmfx --enable-libdc1394 --enable-libdrm --enable-libiec61883 --enable-chromaprint --enable-frei0r --enable-libx264 --enable-shared\n",
            "  libavutil      56. 70.100 / 56. 70.100\n",
            "  libavcodec     58.134.100 / 58.134.100\n",
            "  libavformat    58. 76.100 / 58. 76.100\n",
            "  libavdevice    58. 13.100 / 58. 13.100\n",
            "  libavfilter     7.110.100 /  7.110.100\n",
            "  libswscale      5.  9.100 /  5.  9.100\n",
            "  libswresample   3.  9.100 /  3.  9.100\n",
            "  libpostproc    55.  9.100 / 55.  9.100\n",
            "Input #0, mov,mp4,m4a,3gp,3g2,mj2, from '/content/FINAL.mp4':\n",
            "  Metadata:\n",
            "    major_brand     : isom\n",
            "    minor_version   : 512\n",
            "    compatible_brands: isomiso2mp41\n",
            "    encoder         : Lavf60.21.101\n",
            "  Duration: 00:00:20.70, start: 0.000000, bitrate: 2022 kb/s\n",
            "  Stream #0:0(und): Video: hevc (Main) (hev1 / 0x31766568), yuv420p(tv, bt709, progressive), 2304x1296 [SAR 1:1 DAR 16:9], 2021 kb/s, 30 fps, 30 tbr, 15360 tbn, 30 tbc (default)\n",
            "    Metadata:\n",
            "      handler_name    : VideoHandler\n",
            "      vendor_id       : [0][0][0][0]\n",
            "      encoder         : Lavc60.40.100 hevc_nvenc\n",
            "Input #1, mov,mp4,m4a,3gp,3g2,mj2, from '/content/FINAL1.mp4':\n",
            "  Metadata:\n",
            "    major_brand     : isom\n",
            "    minor_version   : 512\n",
            "    compatible_brands: isomiso2mp41\n",
            "    encoder         : Lavf60.21.101\n",
            "  Duration: 00:00:20.70, start: 0.000000, bitrate: 2071 kb/s\n",
            "  Stream #1:0(und): Video: hevc (Main) (hev1 / 0x31766568), yuv420p(tv, bt709, progressive), 2304x1296 [SAR 1:1 DAR 16:9], 2069 kb/s, 30 fps, 30 tbr, 15360 tbn, 30 tbc (default)\n",
            "    Metadata:\n",
            "      handler_name    : VideoHandler\n",
            "      vendor_id       : [0][0][0][0]\n",
            "      encoder         : Lavc60.40.100 hevc_nvenc\n",
            "Input #2, mov,mp4,m4a,3gp,3g2,mj2, from '/content/FINAL3.mp4':\n",
            "  Metadata:\n",
            "    major_brand     : isom\n",
            "    minor_version   : 512\n",
            "    compatible_brands: isomiso2mp41\n",
            "    encoder         : Lavf60.21.101\n",
            "  Duration: 00:00:24.57, start: 0.000000, bitrate: 2044 kb/s\n",
            "  Stream #2:0(und): Video: hevc (Main) (hev1 / 0x31766568), yuv420p(tv, bt709, progressive), 2304x1296 [SAR 1:1 DAR 16:9], 2043 kb/s, 30 fps, 30 tbr, 15360 tbn, 30 tbc (default)\n",
            "    Metadata:\n",
            "      handler_name    : VideoHandler\n",
            "      vendor_id       : [0][0][0][0]\n",
            "      encoder         : Lavc60.40.100 hevc_nvenc\n",
            "Stream mapping:\n",
            "  Stream #0:0 (hevc) -> concat:in0:v0\n",
            "  Stream #1:0 (hevc) -> concat:in1:v0\n",
            "  Stream #2:0 (hevc) -> concat:in2:v0\n",
            "  concat -> Stream #0:0 (libx264)\n",
            "Press [q] to stop, [?] for help\n",
            "\u001b[1;36m[libx264 @ 0x55ea0afd3e80] \u001b[0musing SAR=1/1\n",
            "\u001b[1;36m[libx264 @ 0x55ea0afd3e80] \u001b[0musing cpu capabilities: MMX2 SSE2Fast SSSE3 SSE4.2 AVX FMA3 BMI2 AVX2\n",
            "\u001b[1;36m[libx264 @ 0x55ea0afd3e80] \u001b[0mprofile High, level 5.0, 4:2:0, 8-bit\n",
            "\u001b[1;36m[libx264 @ 0x55ea0afd3e80] \u001b[0m264 - core 163 r3060 5db6aa6 - H.264/MPEG-4 AVC codec - Copyleft 2003-2021 - http://www.videolan.org/x264.html - options: cabac=1 ref=3 deblock=1:0:0 analyse=0x3:0x113 me=hex subme=7 psy=1 psy_rd=1.00:0.00 mixed_ref=1 me_range=16 chroma_me=1 trellis=1 8x8dct=1 cqm=0 deadzone=21,11 fast_pskip=1 chroma_qp_offset=-2 threads=3 lookahead_threads=1 sliced_threads=0 nr=0 decimate=1 interlaced=0 bluray_compat=0 constrained_intra=0 bframes=3 b_pyramid=2 b_adapt=1 b_bias=0 direct=1 weightb=1 open_gop=0 weightp=2 keyint=250 keyint_min=25 scenecut=40 intra_refresh=0 rc_lookahead=40 rc=crf mbtree=1 crf=23.0 qcomp=0.60 qpmin=0 qpmax=69 qpstep=4 ip_ratio=1.40 aq=1:1.00\n",
            "Output #0, mp4, to '/content/combined_video3.mp4':\n",
            "  Metadata:\n",
            "    major_brand     : isom\n",
            "    minor_version   : 512\n",
            "    compatible_brands: isomiso2mp41\n",
            "    encoder         : Lavf58.76.100\n",
            "  Stream #0:0: Video: h264 (avc1 / 0x31637661), yuv420p(tv, bt709, progressive), 2304x1296 [SAR 1:1 DAR 16:9], q=2-31, 30 fps, 15360 tbn (default)\n",
            "    Metadata:\n",
            "      encoder         : Lavc58.134.100 libx264\n",
            "    Side data:\n",
            "      cpb: bitrate max/min/avg: 0/0/0 buffer size: 0 vbv_delay: N/A\n",
            "frame= 1979 fps=4.6 q=-1.0 Lsize=   73884kB time=00:01:05.86 bitrate=9189.1kbits/s speed=0.154x    \n",
            "video:73859kB audio:0kB subtitle:0kB other streams:0kB global headers:0kB muxing overhead: 0.033753%\n",
            "\u001b[1;36m[libx264 @ 0x55ea0afd3e80] \u001b[0mframe I:9     Avg QP:19.52  size:467121\n",
            "\u001b[1;36m[libx264 @ 0x55ea0afd3e80] \u001b[0mframe P:543   Avg QP:22.83  size: 92341\n",
            "\u001b[1;36m[libx264 @ 0x55ea0afd3e80] \u001b[0mframe B:1427  Avg QP:29.02  size: 14916\n",
            "\u001b[1;36m[libx264 @ 0x55ea0afd3e80] \u001b[0mconsecutive B-frames:  2.1%  4.3%  2.6% 91.0%\n",
            "\u001b[1;36m[libx264 @ 0x55ea0afd3e80] \u001b[0mmb I  I16..4:  5.5% 73.7% 20.9%\n",
            "\u001b[1;36m[libx264 @ 0x55ea0afd3e80] \u001b[0mmb P  I16..4:  0.6%  5.2%  0.6%  P16..4: 42.3% 10.8%  7.5%  0.0%  0.0%    skip:33.0%\n",
            "\u001b[1;36m[libx264 @ 0x55ea0afd3e80] \u001b[0mmb B  I16..4:  0.1%  0.5%  0.1%  B16..8: 38.4%  2.2%  0.7%  direct: 1.4%  skip:56.7%  L0:47.1% L1:47.3% BI: 5.6%\n",
            "\u001b[1;36m[libx264 @ 0x55ea0afd3e80] \u001b[0m8x8 transform intra:79.3% inter:79.4%\n",
            "\u001b[1;36m[libx264 @ 0x55ea0afd3e80] \u001b[0mcoded y,uvDC,uvAC intra: 76.2% 47.5% 10.7% inter: 15.9% 6.6% 0.1%\n",
            "\u001b[1;36m[libx264 @ 0x55ea0afd3e80] \u001b[0mi16 v,h,dc,p: 33% 20% 24% 23%\n",
            "\u001b[1;36m[libx264 @ 0x55ea0afd3e80] \u001b[0mi8 v,h,dc,ddl,ddr,vr,hd,vl,hu: 16% 14% 26%  9%  5%  7%  6%  8%  8%\n",
            "\u001b[1;36m[libx264 @ 0x55ea0afd3e80] \u001b[0mi4 v,h,dc,ddl,ddr,vr,hd,vl,hu: 24% 19% 18%  7%  6%  7%  6%  6%  6%\n",
            "\u001b[1;36m[libx264 @ 0x55ea0afd3e80] \u001b[0mi8c dc,h,v,p: 54% 21% 21%  4%\n",
            "\u001b[1;36m[libx264 @ 0x55ea0afd3e80] \u001b[0mWeighted P-Frames: Y:0.6% UV:0.0%\n",
            "\u001b[1;36m[libx264 @ 0x55ea0afd3e80] \u001b[0mref P L0: 63.5% 14.7% 16.5%  5.3%  0.0%\n",
            "\u001b[1;36m[libx264 @ 0x55ea0afd3e80] \u001b[0mref B L0: 90.3%  8.1%  1.6%\n",
            "\u001b[1;36m[libx264 @ 0x55ea0afd3e80] \u001b[0mref B L1: 95.3%  4.7%\n",
            "\u001b[1;36m[libx264 @ 0x55ea0afd3e80] \u001b[0mkb/s:9171.96\n"
          ]
        }
      ]
    }
  ],
  "metadata": {
    "colab": {
      "provenance": []
    },
    "kernelspec": {
      "display_name": "Python 3",
      "name": "python3"
    },
    "language_info": {
      "name": "python"
    }
  },
  "nbformat": 4,
  "nbformat_minor": 0
}