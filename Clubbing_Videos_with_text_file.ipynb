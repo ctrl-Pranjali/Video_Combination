{
  "nbformat": 4,
  "nbformat_minor": 0,
  "metadata": {
    "colab": {
      "provenance": []
    },
    "kernelspec": {
      "name": "python3",
      "display_name": "Python 3"
    },
    "language_info": {
      "name": "python"
    }
  },
  "cells": [
    {
      "cell_type": "code",
      "execution_count": 1,
      "metadata": {
        "colab": {
          "base_uri": "https://localhost:8080/"
        },
        "id": "k8w1NWkLjKLL",
        "outputId": "f0bfda85-7041-456b-d1fe-b4a1df882b85"
      },
      "outputs": [
        {
          "output_type": "stream",
          "name": "stdout",
          "text": [
            "Requirement already satisfied: opencv-python-headless in /usr/local/lib/python3.10/dist-packages (4.10.0.84)\n",
            "Requirement already satisfied: numpy>=1.21.2 in /usr/local/lib/python3.10/dist-packages (from opencv-python-headless) (1.25.2)\n"
          ]
        }
      ],
      "source": [
        "!pip install opencv-python-headless\n"
      ]
    },
    {
      "cell_type": "code",
      "source": [
        "# Create input.txt with video file paths\n",
        "video_files = ['/content/video1.mp4', '/content/video2.mp4', '/content/video3.mp4']\n",
        "\n",
        "with open('/content/input.txt', 'w') as f:\n",
        "    for video_file in video_files:\n",
        "        f.write(f\"file '{video_file}'\\n\")\n",
        "\n",
        "# Use ffmpeg to concatenate videos listed in input.txt\n",
        "!ffmpeg -f concat -safe 0 -i /content/input.txt -c copy /content/combined_video.mp4\n"
      ],
      "metadata": {
        "colab": {
          "base_uri": "https://localhost:8080/"
        },
        "id": "YtKqsmrVjV1g",
        "outputId": "fe032ae8-d258-430e-966a-c0a5c4835525"
      },
      "execution_count": 2,
      "outputs": [
        {
          "output_type": "stream",
          "name": "stdout",
          "text": [
            "ffmpeg version 4.4.2-0ubuntu0.22.04.1 Copyright (c) 2000-2021 the FFmpeg developers\n",
            "  built with gcc 11 (Ubuntu 11.2.0-19ubuntu1)\n",
            "  configuration: --prefix=/usr --extra-version=0ubuntu0.22.04.1 --toolchain=hardened --libdir=/usr/lib/x86_64-linux-gnu --incdir=/usr/include/x86_64-linux-gnu --arch=amd64 --enable-gpl --disable-stripping --enable-gnutls --enable-ladspa --enable-libaom --enable-libass --enable-libbluray --enable-libbs2b --enable-libcaca --enable-libcdio --enable-libcodec2 --enable-libdav1d --enable-libflite --enable-libfontconfig --enable-libfreetype --enable-libfribidi --enable-libgme --enable-libgsm --enable-libjack --enable-libmp3lame --enable-libmysofa --enable-libopenjpeg --enable-libopenmpt --enable-libopus --enable-libpulse --enable-librabbitmq --enable-librubberband --enable-libshine --enable-libsnappy --enable-libsoxr --enable-libspeex --enable-libsrt --enable-libssh --enable-libtheora --enable-libtwolame --enable-libvidstab --enable-libvorbis --enable-libvpx --enable-libwebp --enable-libx265 --enable-libxml2 --enable-libxvid --enable-libzimg --enable-libzmq --enable-libzvbi --enable-lv2 --enable-omx --enable-openal --enable-opencl --enable-opengl --enable-sdl2 --enable-pocketsphinx --enable-librsvg --enable-libmfx --enable-libdc1394 --enable-libdrm --enable-libiec61883 --enable-chromaprint --enable-frei0r --enable-libx264 --enable-shared\n",
            "  libavutil      56. 70.100 / 56. 70.100\n",
            "  libavcodec     58.134.100 / 58.134.100\n",
            "  libavformat    58. 76.100 / 58. 76.100\n",
            "  libavdevice    58. 13.100 / 58. 13.100\n",
            "  libavfilter     7.110.100 /  7.110.100\n",
            "  libswscale      5.  9.100 /  5.  9.100\n",
            "  libswresample   3.  9.100 /  3.  9.100\n",
            "  libpostproc    55.  9.100 / 55.  9.100\n",
            "Input #0, concat, from '/content/input.txt':\n",
            "  Duration: N/A, start: 0.000000, bitrate: 2021 kb/s\n",
            "  Stream #0:0(und): Video: hevc (Main) (hev1 / 0x31766568), yuv420p(tv, bt709, progressive), 2304x1296 [SAR 1:1 DAR 16:9], 2021 kb/s, 30 fps, 30 tbr, 15360 tbn, 30 tbc\n",
            "    Metadata:\n",
            "      handler_name    : VideoHandler\n",
            "      vendor_id       : [0][0][0][0]\n",
            "      encoder         : Lavc60.40.100 hevc_nvenc\n",
            "Output #0, mp4, to '/content/combined_video.mp4':\n",
            "  Metadata:\n",
            "    encoder         : Lavf58.76.100\n",
            "  Stream #0:0(und): Video: hevc (Main) (hev1 / 0x31766568), yuv420p(tv, bt709, progressive), 2304x1296 [SAR 1:1 DAR 16:9], q=2-31, 2021 kb/s, 30 fps, 30 tbr, 15360 tbn, 15360 tbc\n",
            "    Metadata:\n",
            "      handler_name    : VideoHandler\n",
            "      vendor_id       : [0][0][0][0]\n",
            "      encoder         : Lavc60.40.100 hevc_nvenc\n",
            "Stream mapping:\n",
            "  Stream #0:0 -> #0:0 (copy)\n",
            "Press [q] to stop, [?] for help\n",
            "frame=    1 fps=0.0 q=-1.0 size=       0kB time=00:00:00.00 bitrate=5415.4kbits/s speed=N/A    \rframe= 1979 fps=0.0 q=-1.0 Lsize=   16476kB time=00:01:05.93 bitrate=2047.0kbits/s speed=1.6e+03x    \n",
            "video:16467kB audio:0kB subtitle:0kB other streams:0kB global headers:0kB muxing overhead: 0.054383%\n"
          ]
        }
      ]
    },
    {
      "cell_type": "code",
      "source": [],
      "metadata": {
        "id": "bs2bCkI2jX9I"
      },
      "execution_count": null,
      "outputs": []
    },
    {
      "cell_type": "code",
      "source": [],
      "metadata": {
        "id": "CNUY_vYtjW_r"
      },
      "execution_count": null,
      "outputs": []
    }
  ]
}